{
 "cells": [
  {
   "cell_type": "markdown",
   "metadata": {},
   "source": [
    "# Assignment 2: Neighborhoods in Toronto"
   ]
  },
  {
   "cell_type": "markdown",
   "metadata": {},
   "source": [
    "First we start by importing needed libraries"
   ]
  },
  {
   "cell_type": "code",
   "execution_count": 161,
   "metadata": {},
   "outputs": [],
   "source": [
    "import requests # library to handle requests\n",
    "import pandas as pd # library for data analsysis\n",
    "import numpy as np # library to handle data in a vectorized manner\n",
    "\n",
    "from geopy.geocoders import Nominatim # module to convert an address into latitude and longitude values\n",
    "\n",
    "# libraries for displaying images\n",
    "from IPython.display import Image \n",
    "from IPython.core.display import HTML \n",
    "    \n",
    "# tranforming json file into a pandas dataframe library\n",
    "from pandas.io.json import json_normalize\n",
    "\n",
    "import folium # plotting library\n",
    "from bs4 import BeautifulSoup\n",
    "import geocoder\n",
    "\n",
    "from sklearn.cluster import KMeans"
   ]
  },
  {
   "cell_type": "markdown",
   "metadata": {},
   "source": [
    "## Scraping Wikipedia"
   ]
  },
  {
   "cell_type": "markdown",
   "metadata": {},
   "source": [
    "We use the 'BeautifulSoup' library to scrape the Wikipedia page."
   ]
  },
  {
   "cell_type": "code",
   "execution_count": 162,
   "metadata": {},
   "outputs": [],
   "source": [
    "# Scrape wiki site for Toronto neighborhood data\n",
    "wiki_link = requests.get('https://en.wikipedia.org/wiki/List_of_postal_codes_of_Canada:_M')\n",
    "src = wiki_link.content\n",
    "soup = BeautifulSoup(src)"
   ]
  },
  {
   "cell_type": "markdown",
   "metadata": {},
   "source": [
    "We then find the table using HTML tags and format it into a list of lists"
   ]
  },
  {
   "cell_type": "code",
   "execution_count": 163,
   "metadata": {},
   "outputs": [],
   "source": [
    "# Parse out table and rows\n",
    "table = soup.find('tbody')\n",
    "table_rows = table.find_all('tr')\n",
    "\n",
    "# Format into list\n",
    "l = []\n",
    "for tr in table_rows:\n",
    "    td = tr.find_all('td')\n",
    "    row = [tr.text for tr in td]\n",
    "    l.append(row)"
   ]
  },
  {
   "cell_type": "markdown",
   "metadata": {},
   "source": [
    "## Data Cleansing"
   ]
  },
  {
   "cell_type": "markdown",
   "metadata": {},
   "source": [
    "The goal is to get it into a pandas dataframe and clean it up. Each step in the cell below is annotated with a comment."
   ]
  },
  {
   "cell_type": "code",
   "execution_count": 164,
   "metadata": {},
   "outputs": [
    {
     "data": {
      "text/html": [
       "<div>\n",
       "<style scoped>\n",
       "    .dataframe tbody tr th:only-of-type {\n",
       "        vertical-align: middle;\n",
       "    }\n",
       "\n",
       "    .dataframe tbody tr th {\n",
       "        vertical-align: top;\n",
       "    }\n",
       "\n",
       "    .dataframe thead th {\n",
       "        text-align: right;\n",
       "    }\n",
       "</style>\n",
       "<table border=\"1\" class=\"dataframe\">\n",
       "  <thead>\n",
       "    <tr style=\"text-align: right;\">\n",
       "      <th></th>\n",
       "      <th>Postcode</th>\n",
       "      <th>Borough</th>\n",
       "      <th>Neighbourhood</th>\n",
       "    </tr>\n",
       "  </thead>\n",
       "  <tbody>\n",
       "    <tr>\n",
       "      <th>0</th>\n",
       "      <td>M1B</td>\n",
       "      <td>Scarborough</td>\n",
       "      <td>Rouge, Malvern</td>\n",
       "    </tr>\n",
       "    <tr>\n",
       "      <th>1</th>\n",
       "      <td>M1C</td>\n",
       "      <td>Scarborough</td>\n",
       "      <td>Highland Creek, Rouge Hill, Port Union</td>\n",
       "    </tr>\n",
       "    <tr>\n",
       "      <th>2</th>\n",
       "      <td>M1E</td>\n",
       "      <td>Scarborough</td>\n",
       "      <td>Guildwood, Morningside, West Hill</td>\n",
       "    </tr>\n",
       "    <tr>\n",
       "      <th>3</th>\n",
       "      <td>M1G</td>\n",
       "      <td>Scarborough</td>\n",
       "      <td>Woburn</td>\n",
       "    </tr>\n",
       "    <tr>\n",
       "      <th>4</th>\n",
       "      <td>M1H</td>\n",
       "      <td>Scarborough</td>\n",
       "      <td>Cedarbrae</td>\n",
       "    </tr>\n",
       "  </tbody>\n",
       "</table>\n",
       "</div>"
      ],
      "text/plain": [
       "  Postcode      Borough                           Neighbourhood\n",
       "0      M1B  Scarborough                          Rouge, Malvern\n",
       "1      M1C  Scarborough  Highland Creek, Rouge Hill, Port Union\n",
       "2      M1E  Scarborough       Guildwood, Morningside, West Hill\n",
       "3      M1G  Scarborough                                  Woburn\n",
       "4      M1H  Scarborough                               Cedarbrae"
      ]
     },
     "execution_count": 164,
     "metadata": {},
     "output_type": "execute_result"
    }
   ],
   "source": [
    "# Format into df\n",
    "toronto_neigh = pd.DataFrame(l, columns=['Postcode', 'Borough', 'Neighbourhood'])  # Transform list into df\n",
    "toronto_neigh = toronto_neigh[toronto_neigh.Borough.str.contains('Not assigned') == False]  # Get rid of 'Not assigned' in Boroughs\n",
    "toronto_neigh['Neighbourhood'] = toronto_neigh.Neighbourhood.str[:-1]  # Get rid of extra '/n' token in Neighbourhood\n",
    "\n",
    "# If Neighbourhood is 'Not assigned', assign it the Borough value\n",
    "for i in range(len(toronto_neigh)):\n",
    "    if toronto_neigh['Neighbourhood'].iloc[i] == 'Not assigned':\n",
    "        toronto_neigh['Neighbourhood'].iloc[i] = toronto_neigh['Borough'].iloc[i]\n",
    "        \n",
    "toronto_neigh = toronto_neigh.groupby(['Postcode', 'Borough']).agg(lambda x: ', '.join(x))  # Join Postcodes together\n",
    "toronto_neigh.reset_index(inplace=True)  # Reset index\n",
    "toronto_neigh.head()"
   ]
  },
  {
   "cell_type": "markdown",
   "metadata": {},
   "source": [
    "We then display the shape of the dataframe."
   ]
  },
  {
   "cell_type": "code",
   "execution_count": 165,
   "metadata": {},
   "outputs": [
    {
     "data": {
      "text/plain": [
       "(103, 3)"
      ]
     },
     "execution_count": 165,
     "metadata": {},
     "output_type": "execute_result"
    }
   ],
   "source": [
    "toronto_neigh.shape"
   ]
  },
  {
   "cell_type": "markdown",
   "metadata": {},
   "source": [
    "## Getting location data"
   ]
  },
  {
   "cell_type": "markdown",
   "metadata": {},
   "source": [
    "I created a function to get the latitude and longitude coordinates using geopy."
   ]
  },
  {
   "cell_type": "code",
   "execution_count": 106,
   "metadata": {},
   "outputs": [],
   "source": [
    "def get_coords(row):\n",
    "    '''\n",
    "    Returns latitude and longitude coords of an address.\n",
    "    '''\n",
    "    postal_code = row.Postcode\n",
    "    \n",
    "    geolocator = Nominatim(user_agent='my-application')\n",
    "    \n",
    "    try:\n",
    "        location = geolocator.geocode(f'{postal_code}, Toronto, Ontario')\n",
    "    except GeocoderTimedOut:\n",
    "        return get_coords(row)\n",
    "    \n",
    "    if location is None:\n",
    "        return -1, -1\n",
    "    \n",
    "    return location.latitude, location.longitude"
   ]
  },
  {
   "cell_type": "markdown",
   "metadata": {},
   "source": [
    "I then use the function to fill in the latitude and longitude values."
   ]
  },
  {
   "cell_type": "code",
   "execution_count": 107,
   "metadata": {},
   "outputs": [
    {
     "data": {
      "text/html": [
       "<div>\n",
       "<style scoped>\n",
       "    .dataframe tbody tr th:only-of-type {\n",
       "        vertical-align: middle;\n",
       "    }\n",
       "\n",
       "    .dataframe tbody tr th {\n",
       "        vertical-align: top;\n",
       "    }\n",
       "\n",
       "    .dataframe thead th {\n",
       "        text-align: right;\n",
       "    }\n",
       "</style>\n",
       "<table border=\"1\" class=\"dataframe\">\n",
       "  <thead>\n",
       "    <tr style=\"text-align: right;\">\n",
       "      <th></th>\n",
       "      <th>Postcode</th>\n",
       "      <th>Borough</th>\n",
       "      <th>Neighbourhood</th>\n",
       "      <th>Latitude</th>\n",
       "      <th>Longitude</th>\n",
       "    </tr>\n",
       "  </thead>\n",
       "  <tbody>\n",
       "    <tr>\n",
       "      <th>0</th>\n",
       "      <td>M1B</td>\n",
       "      <td>Scarborough</td>\n",
       "      <td>Rouge, Malvern</td>\n",
       "      <td>43.653963</td>\n",
       "      <td>-79.387207</td>\n",
       "    </tr>\n",
       "    <tr>\n",
       "      <th>1</th>\n",
       "      <td>M1C</td>\n",
       "      <td>Scarborough</td>\n",
       "      <td>Highland Creek, Rouge Hill, Port Union</td>\n",
       "      <td>43.653963</td>\n",
       "      <td>-79.387207</td>\n",
       "    </tr>\n",
       "    <tr>\n",
       "      <th>2</th>\n",
       "      <td>M1E</td>\n",
       "      <td>Scarborough</td>\n",
       "      <td>Guildwood, Morningside, West Hill</td>\n",
       "      <td>-1.000000</td>\n",
       "      <td>-1.000000</td>\n",
       "    </tr>\n",
       "    <tr>\n",
       "      <th>3</th>\n",
       "      <td>M1G</td>\n",
       "      <td>Scarborough</td>\n",
       "      <td>Woburn</td>\n",
       "      <td>43.765717</td>\n",
       "      <td>-79.221898</td>\n",
       "    </tr>\n",
       "    <tr>\n",
       "      <th>4</th>\n",
       "      <td>M1H</td>\n",
       "      <td>Scarborough</td>\n",
       "      <td>Cedarbrae</td>\n",
       "      <td>-1.000000</td>\n",
       "      <td>-1.000000</td>\n",
       "    </tr>\n",
       "  </tbody>\n",
       "</table>\n",
       "</div>"
      ],
      "text/plain": [
       "  Postcode      Borough                           Neighbourhood   Latitude  \\\n",
       "0      M1B  Scarborough                          Rouge, Malvern  43.653963   \n",
       "1      M1C  Scarborough  Highland Creek, Rouge Hill, Port Union  43.653963   \n",
       "2      M1E  Scarborough       Guildwood, Morningside, West Hill  -1.000000   \n",
       "3      M1G  Scarborough                                  Woburn  43.765717   \n",
       "4      M1H  Scarborough                               Cedarbrae  -1.000000   \n",
       "\n",
       "   Longitude  \n",
       "0 -79.387207  \n",
       "1 -79.387207  \n",
       "2  -1.000000  \n",
       "3 -79.221898  \n",
       "4  -1.000000  "
      ]
     },
     "execution_count": 107,
     "metadata": {},
     "output_type": "execute_result"
    }
   ],
   "source": [
    "toronto_neigh['Latitude'] = -1\n",
    "toronto_neigh['Longitude'] = -1\n",
    "for i in range(len(toronto_neigh)):\n",
    "    lat, lon = get_coords(toronto_neigh.iloc[i])\n",
    "    toronto_neigh['Latitude'].iloc[i] = lat\n",
    "    toronto_neigh['Longitude'].iloc[i] = lon\n",
    "    \n",
    "toronto_neigh.head()"
   ]
  },
  {
   "cell_type": "markdown",
   "metadata": {},
   "source": [
    "## Backup using csv"
   ]
  },
  {
   "cell_type": "markdown",
   "metadata": {},
   "source": [
    "Below is a backup method using the csv document containing the latitude and longitude coordinates. I used this because geopy would not get many of the locations."
   ]
  },
  {
   "cell_type": "code",
   "execution_count": 166,
   "metadata": {},
   "outputs": [
    {
     "data": {
      "text/html": [
       "<div>\n",
       "<style scoped>\n",
       "    .dataframe tbody tr th:only-of-type {\n",
       "        vertical-align: middle;\n",
       "    }\n",
       "\n",
       "    .dataframe tbody tr th {\n",
       "        vertical-align: top;\n",
       "    }\n",
       "\n",
       "    .dataframe thead th {\n",
       "        text-align: right;\n",
       "    }\n",
       "</style>\n",
       "<table border=\"1\" class=\"dataframe\">\n",
       "  <thead>\n",
       "    <tr style=\"text-align: right;\">\n",
       "      <th></th>\n",
       "      <th>Postal Code</th>\n",
       "      <th>Latitude</th>\n",
       "      <th>Longitude</th>\n",
       "    </tr>\n",
       "  </thead>\n",
       "  <tbody>\n",
       "    <tr>\n",
       "      <th>0</th>\n",
       "      <td>M1B</td>\n",
       "      <td>43.806686</td>\n",
       "      <td>-79.194353</td>\n",
       "    </tr>\n",
       "    <tr>\n",
       "      <th>1</th>\n",
       "      <td>M1C</td>\n",
       "      <td>43.784535</td>\n",
       "      <td>-79.160497</td>\n",
       "    </tr>\n",
       "    <tr>\n",
       "      <th>2</th>\n",
       "      <td>M1E</td>\n",
       "      <td>43.763573</td>\n",
       "      <td>-79.188711</td>\n",
       "    </tr>\n",
       "    <tr>\n",
       "      <th>3</th>\n",
       "      <td>M1G</td>\n",
       "      <td>43.770992</td>\n",
       "      <td>-79.216917</td>\n",
       "    </tr>\n",
       "    <tr>\n",
       "      <th>4</th>\n",
       "      <td>M1H</td>\n",
       "      <td>43.773136</td>\n",
       "      <td>-79.239476</td>\n",
       "    </tr>\n",
       "  </tbody>\n",
       "</table>\n",
       "</div>"
      ],
      "text/plain": [
       "  Postal Code   Latitude  Longitude\n",
       "0         M1B  43.806686 -79.194353\n",
       "1         M1C  43.784535 -79.160497\n",
       "2         M1E  43.763573 -79.188711\n",
       "3         M1G  43.770992 -79.216917\n",
       "4         M1H  43.773136 -79.239476"
      ]
     },
     "execution_count": 166,
     "metadata": {},
     "output_type": "execute_result"
    }
   ],
   "source": [
    "path = '../../Geospatial_Coordinates.csv'\n",
    "geospatial_data = pd.read_csv(path)\n",
    "geospatial_data.head()"
   ]
  },
  {
   "cell_type": "code",
   "execution_count": 167,
   "metadata": {},
   "outputs": [
    {
     "data": {
      "text/html": [
       "<div>\n",
       "<style scoped>\n",
       "    .dataframe tbody tr th:only-of-type {\n",
       "        vertical-align: middle;\n",
       "    }\n",
       "\n",
       "    .dataframe tbody tr th {\n",
       "        vertical-align: top;\n",
       "    }\n",
       "\n",
       "    .dataframe thead th {\n",
       "        text-align: right;\n",
       "    }\n",
       "</style>\n",
       "<table border=\"1\" class=\"dataframe\">\n",
       "  <thead>\n",
       "    <tr style=\"text-align: right;\">\n",
       "      <th></th>\n",
       "      <th>Postcode</th>\n",
       "      <th>Borough</th>\n",
       "      <th>Neighbourhood</th>\n",
       "      <th>Latitude</th>\n",
       "      <th>Longitude</th>\n",
       "    </tr>\n",
       "  </thead>\n",
       "  <tbody>\n",
       "    <tr>\n",
       "      <th>0</th>\n",
       "      <td>M1B</td>\n",
       "      <td>Scarborough</td>\n",
       "      <td>Rouge, Malvern</td>\n",
       "      <td>43.806686</td>\n",
       "      <td>-79.194353</td>\n",
       "    </tr>\n",
       "    <tr>\n",
       "      <th>1</th>\n",
       "      <td>M1C</td>\n",
       "      <td>Scarborough</td>\n",
       "      <td>Highland Creek, Rouge Hill, Port Union</td>\n",
       "      <td>43.784535</td>\n",
       "      <td>-79.160497</td>\n",
       "    </tr>\n",
       "    <tr>\n",
       "      <th>2</th>\n",
       "      <td>M1E</td>\n",
       "      <td>Scarborough</td>\n",
       "      <td>Guildwood, Morningside, West Hill</td>\n",
       "      <td>43.763573</td>\n",
       "      <td>-79.188711</td>\n",
       "    </tr>\n",
       "    <tr>\n",
       "      <th>3</th>\n",
       "      <td>M1G</td>\n",
       "      <td>Scarborough</td>\n",
       "      <td>Woburn</td>\n",
       "      <td>43.770992</td>\n",
       "      <td>-79.216917</td>\n",
       "    </tr>\n",
       "    <tr>\n",
       "      <th>4</th>\n",
       "      <td>M1H</td>\n",
       "      <td>Scarborough</td>\n",
       "      <td>Cedarbrae</td>\n",
       "      <td>43.773136</td>\n",
       "      <td>-79.239476</td>\n",
       "    </tr>\n",
       "    <tr>\n",
       "      <th>...</th>\n",
       "      <td>...</td>\n",
       "      <td>...</td>\n",
       "      <td>...</td>\n",
       "      <td>...</td>\n",
       "      <td>...</td>\n",
       "    </tr>\n",
       "    <tr>\n",
       "      <th>98</th>\n",
       "      <td>M9N</td>\n",
       "      <td>York</td>\n",
       "      <td>Weston</td>\n",
       "      <td>43.706876</td>\n",
       "      <td>-79.518188</td>\n",
       "    </tr>\n",
       "    <tr>\n",
       "      <th>99</th>\n",
       "      <td>M9P</td>\n",
       "      <td>Etobicoke</td>\n",
       "      <td>Westmount</td>\n",
       "      <td>43.696319</td>\n",
       "      <td>-79.532242</td>\n",
       "    </tr>\n",
       "    <tr>\n",
       "      <th>100</th>\n",
       "      <td>M9R</td>\n",
       "      <td>Etobicoke</td>\n",
       "      <td>Kingsview Village, Martin Grove Gardens, Richv...</td>\n",
       "      <td>43.688905</td>\n",
       "      <td>-79.554724</td>\n",
       "    </tr>\n",
       "    <tr>\n",
       "      <th>101</th>\n",
       "      <td>M9V</td>\n",
       "      <td>Etobicoke</td>\n",
       "      <td>Albion Gardens, Beaumond Heights, Humbergate, ...</td>\n",
       "      <td>43.739416</td>\n",
       "      <td>-79.588437</td>\n",
       "    </tr>\n",
       "    <tr>\n",
       "      <th>102</th>\n",
       "      <td>M9W</td>\n",
       "      <td>Etobicoke</td>\n",
       "      <td>Northwest</td>\n",
       "      <td>43.706748</td>\n",
       "      <td>-79.594054</td>\n",
       "    </tr>\n",
       "  </tbody>\n",
       "</table>\n",
       "<p>103 rows × 5 columns</p>\n",
       "</div>"
      ],
      "text/plain": [
       "    Postcode      Borough                                      Neighbourhood  \\\n",
       "0        M1B  Scarborough                                     Rouge, Malvern   \n",
       "1        M1C  Scarborough             Highland Creek, Rouge Hill, Port Union   \n",
       "2        M1E  Scarborough                  Guildwood, Morningside, West Hill   \n",
       "3        M1G  Scarborough                                             Woburn   \n",
       "4        M1H  Scarborough                                          Cedarbrae   \n",
       "..       ...          ...                                                ...   \n",
       "98       M9N         York                                             Weston   \n",
       "99       M9P    Etobicoke                                          Westmount   \n",
       "100      M9R    Etobicoke  Kingsview Village, Martin Grove Gardens, Richv...   \n",
       "101      M9V    Etobicoke  Albion Gardens, Beaumond Heights, Humbergate, ...   \n",
       "102      M9W    Etobicoke                                          Northwest   \n",
       "\n",
       "      Latitude  Longitude  \n",
       "0    43.806686 -79.194353  \n",
       "1    43.784535 -79.160497  \n",
       "2    43.763573 -79.188711  \n",
       "3    43.770992 -79.216917  \n",
       "4    43.773136 -79.239476  \n",
       "..         ...        ...  \n",
       "98   43.706876 -79.518188  \n",
       "99   43.696319 -79.532242  \n",
       "100  43.688905 -79.554724  \n",
       "101  43.739416 -79.588437  \n",
       "102  43.706748 -79.594054  \n",
       "\n",
       "[103 rows x 5 columns]"
      ]
     },
     "execution_count": 167,
     "metadata": {},
     "output_type": "execute_result"
    }
   ],
   "source": [
    "toronto_neigh = toronto_neigh.set_index('Postcode').join(geospatial_data.set_index('Postal Code'))\n",
    "toronto_neigh.reset_index(inplace=True)\n",
    "toronto_neigh"
   ]
  },
  {
   "cell_type": "markdown",
   "metadata": {},
   "source": [
    "## Clustering Toronto Neighborhoods"
   ]
  },
  {
   "cell_type": "markdown",
   "metadata": {},
   "source": [
    "We cluster the neighborhoods below."
   ]
  },
  {
   "cell_type": "code",
   "execution_count": 168,
   "metadata": {},
   "outputs": [],
   "source": [
    "X = toronto_neigh[['Latitude', 'Longitude', 'Neighbourhood']]"
   ]
  },
  {
   "cell_type": "code",
   "execution_count": 169,
   "metadata": {},
   "outputs": [
    {
     "data": {
      "text/plain": [
       "array([1, 1, 1, 1, 1, 1, 1, 4, 1, 4, 1, 4, 1, 1, 1, 1, 1, 0, 4, 0, 0, 0,\n",
       "       0, 0, 0, 4, 4, 4, 0, 0, 0, 3, 3, 3, 4, 4, 4, 4, 4, 4, 4, 2, 4, 2,\n",
       "       0, 0, 0, 2, 2, 2, 2, 2, 2, 2, 2, 2, 2, 2, 2, 2, 2, 2, 0, 0, 2, 2,\n",
       "       2, 2, 2, 2, 2, 0, 0, 0, 0, 2, 2, 2, 2, 3, 3, 3, 3, 2, 3, 2, 3, 4,\n",
       "       3, 3, 3, 3, 3, 3, 3, 3, 3, 3, 3, 3, 3, 3, 3])"
      ]
     },
     "execution_count": 169,
     "metadata": {},
     "output_type": "execute_result"
    }
   ],
   "source": [
    "n_clusters = 5\n",
    "kmeans = KMeans(n_clusters=n_clusters).fit(X[['Latitude', 'Longitude']])\n",
    "kmeans.labels_"
   ]
  },
  {
   "cell_type": "code",
   "execution_count": 170,
   "metadata": {},
   "outputs": [
    {
     "name": "stderr",
     "output_type": "stream",
     "text": [
      "C:\\Users\\tylermathis\\AppData\\Roaming\\Python\\Python37\\site-packages\\ipykernel_launcher.py:1: SettingWithCopyWarning: \n",
      "A value is trying to be set on a copy of a slice from a DataFrame.\n",
      "Try using .loc[row_indexer,col_indexer] = value instead\n",
      "\n",
      "See the caveats in the documentation: http://pandas.pydata.org/pandas-docs/stable/user_guide/indexing.html#returning-a-view-versus-a-copy\n",
      "  \"\"\"Entry point for launching an IPython kernel.\n"
     ]
    },
    {
     "data": {
      "text/html": [
       "<div>\n",
       "<style scoped>\n",
       "    .dataframe tbody tr th:only-of-type {\n",
       "        vertical-align: middle;\n",
       "    }\n",
       "\n",
       "    .dataframe tbody tr th {\n",
       "        vertical-align: top;\n",
       "    }\n",
       "\n",
       "    .dataframe thead th {\n",
       "        text-align: right;\n",
       "    }\n",
       "</style>\n",
       "<table border=\"1\" class=\"dataframe\">\n",
       "  <thead>\n",
       "    <tr style=\"text-align: right;\">\n",
       "      <th></th>\n",
       "      <th>Latitude</th>\n",
       "      <th>Longitude</th>\n",
       "      <th>Neighbourhood</th>\n",
       "      <th>Labels</th>\n",
       "    </tr>\n",
       "  </thead>\n",
       "  <tbody>\n",
       "    <tr>\n",
       "      <th>0</th>\n",
       "      <td>43.806686</td>\n",
       "      <td>-79.194353</td>\n",
       "      <td>Rouge, Malvern</td>\n",
       "      <td>1</td>\n",
       "    </tr>\n",
       "    <tr>\n",
       "      <th>1</th>\n",
       "      <td>43.784535</td>\n",
       "      <td>-79.160497</td>\n",
       "      <td>Highland Creek, Rouge Hill, Port Union</td>\n",
       "      <td>1</td>\n",
       "    </tr>\n",
       "    <tr>\n",
       "      <th>2</th>\n",
       "      <td>43.763573</td>\n",
       "      <td>-79.188711</td>\n",
       "      <td>Guildwood, Morningside, West Hill</td>\n",
       "      <td>1</td>\n",
       "    </tr>\n",
       "    <tr>\n",
       "      <th>3</th>\n",
       "      <td>43.770992</td>\n",
       "      <td>-79.216917</td>\n",
       "      <td>Woburn</td>\n",
       "      <td>1</td>\n",
       "    </tr>\n",
       "    <tr>\n",
       "      <th>4</th>\n",
       "      <td>43.773136</td>\n",
       "      <td>-79.239476</td>\n",
       "      <td>Cedarbrae</td>\n",
       "      <td>1</td>\n",
       "    </tr>\n",
       "  </tbody>\n",
       "</table>\n",
       "</div>"
      ],
      "text/plain": [
       "    Latitude  Longitude                           Neighbourhood  Labels\n",
       "0  43.806686 -79.194353                          Rouge, Malvern       1\n",
       "1  43.784535 -79.160497  Highland Creek, Rouge Hill, Port Union       1\n",
       "2  43.763573 -79.188711       Guildwood, Morningside, West Hill       1\n",
       "3  43.770992 -79.216917                                  Woburn       1\n",
       "4  43.773136 -79.239476                               Cedarbrae       1"
      ]
     },
     "execution_count": 170,
     "metadata": {},
     "output_type": "execute_result"
    }
   ],
   "source": [
    "X['Labels'] = kmeans.labels_\n",
    "X.head()"
   ]
  },
  {
   "cell_type": "markdown",
   "metadata": {},
   "source": [
    "## Display data"
   ]
  },
  {
   "cell_type": "markdown",
   "metadata": {},
   "source": [
    "We will make a map with folium that displays the clustered neighborhoods."
   ]
  },
  {
   "cell_type": "code",
   "execution_count": 171,
   "metadata": {},
   "outputs": [],
   "source": [
    "geolocator = Nominatim(user_agent='my-application')\n",
    "toronto_location = geolocator.geocode('Toronto, Ontario')"
   ]
  },
  {
   "cell_type": "code",
   "execution_count": 172,
   "metadata": {},
   "outputs": [
    {
     "data": {
      "text/html": [
       "<div style=\"width:100%;\"><div style=\"position:relative;width:100%;height:0;padding-bottom:60%;\"><iframe src=\"data:text/html;charset=utf-8;base64,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\" style=\"position:absolute;width:100%;height:100%;left:0;top:0;border:none !important;\" allowfullscreen webkitallowfullscreen mozallowfullscreen></iframe></div></div>"
      ],
      "text/plain": [
       "<folium.folium.Map at 0x15384a20>"
      ]
     },
     "execution_count": 172,
     "metadata": {},
     "output_type": "execute_result"
    }
   ],
   "source": [
    "# create map of Toronto using latitude and longitude values\n",
    "map_toronto = folium.Map(location=[toronto_location.latitude, toronto_location.longitude], zoom_start=10)\n",
    "\n",
    "# Color dict\n",
    "color = {0: 'blue', 1: 'red', 2: 'purple', 3: 'orange', 4: 'cyan'}\n",
    "\n",
    "# add markers to map\n",
    "for lat, lng, label, col in zip(X['Latitude'], X['Longitude'], X['Neighbourhood'], X['Labels']):\n",
    "    label = folium.Popup(label, parse_html=True)\n",
    "    folium.CircleMarker(\n",
    "        [lat, lng],\n",
    "        radius=5,\n",
    "        popup=label,\n",
    "        color=color[col],\n",
    "        fill=True,\n",
    "        fill_color=color[col],\n",
    "        fill_opacity=0.7,\n",
    "        parse_html=False).add_to(map_toronto)  \n",
    "    \n",
    "map_toronto"
   ]
  }
 ],
 "metadata": {
  "kernelspec": {
   "display_name": "Python 3",
   "language": "python",
   "name": "python3"
  },
  "language_info": {
   "codemirror_mode": {
    "name": "ipython",
    "version": 3
   },
   "file_extension": ".py",
   "mimetype": "text/x-python",
   "name": "python",
   "nbconvert_exporter": "python",
   "pygments_lexer": "ipython3",
   "version": "3.7.3"
  }
 },
 "nbformat": 4,
 "nbformat_minor": 2
}
